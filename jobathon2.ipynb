{
 "cells": [
  {
   "cell_type": "markdown",
   "source": [
    "# Importing all the Necessary libraries"
   ],
   "metadata": {}
  },
  {
   "cell_type": "code",
   "execution_count": 1,
   "source": [
    "import pandas as pd\r\n",
    "import numpy as np\r\n",
    "import matplotlib.pyplot as plt\r\n",
    "%matplotlib inline\r\n",
    "import seaborn as sns "
   ],
   "outputs": [],
   "metadata": {}
  },
  {
   "cell_type": "markdown",
   "source": [
    "# Importing the Datasets"
   ],
   "metadata": {}
  },
  {
   "cell_type": "code",
   "execution_count": 2,
   "source": [
    "# Importing the training dataset\r\n",
    "df_train = pd.read_csv(\"TRAIN.csv\")\r\n",
    "\r\n",
    "# Importing the test dataset\r\n",
    "df_test = pd.read_csv(\"TEST_FINAL.csv\")"
   ],
   "outputs": [],
   "metadata": {}
  },
  {
   "cell_type": "markdown",
   "source": [
    "## Let's check the dataset using **info()** command"
   ],
   "metadata": {}
  },
  {
   "cell_type": "code",
   "execution_count": 63,
   "source": [
    "df_train.info()"
   ],
   "outputs": [
    {
     "output_type": "stream",
     "name": "stdout",
     "text": [
      "<class 'pandas.core.frame.DataFrame'>\n",
      "RangeIndex: 188340 entries, 0 to 188339\n",
      "Data columns (total 10 columns):\n",
      " #   Column         Non-Null Count   Dtype  \n",
      "---  ------         --------------   -----  \n",
      " 0   ID             188340 non-null  object \n",
      " 1   Store_id       188340 non-null  int64  \n",
      " 2   Store_Type     188340 non-null  object \n",
      " 3   Location_Type  188340 non-null  object \n",
      " 4   Region_Code    188340 non-null  object \n",
      " 5   Date           188340 non-null  object \n",
      " 6   Holiday        188340 non-null  int64  \n",
      " 7   Discount       188340 non-null  object \n",
      " 8   #Order         188340 non-null  int64  \n",
      " 9   Sales          188340 non-null  float64\n",
      "dtypes: float64(1), int64(3), object(6)\n",
      "memory usage: 14.4+ MB\n"
     ]
    }
   ],
   "metadata": {}
  },
  {
   "cell_type": "code",
   "execution_count": 66,
   "source": [
    "df_test.info()"
   ],
   "outputs": [
    {
     "output_type": "stream",
     "name": "stdout",
     "text": [
      "<class 'pandas.core.frame.DataFrame'>\n",
      "RangeIndex: 22265 entries, 0 to 22264\n",
      "Data columns (total 8 columns):\n",
      " #   Column         Non-Null Count  Dtype \n",
      "---  ------         --------------  ----- \n",
      " 0   ID             22265 non-null  object\n",
      " 1   Store_id       22265 non-null  int64 \n",
      " 2   Store_Type     22265 non-null  object\n",
      " 3   Location_Type  22265 non-null  object\n",
      " 4   Region_Code    22265 non-null  object\n",
      " 5   Date           22265 non-null  object\n",
      " 6   Holiday        22265 non-null  int64 \n",
      " 7   Discount       22265 non-null  object\n",
      "dtypes: int64(2), object(6)\n",
      "memory usage: 1.4+ MB\n"
     ]
    }
   ],
   "metadata": {}
  },
  {
   "cell_type": "code",
   "execution_count": 61,
   "source": [
    "df_test.head(2)"
   ],
   "outputs": [
    {
     "output_type": "execute_result",
     "data": {
      "text/html": [
       "<div>\n",
       "<style scoped>\n",
       "    .dataframe tbody tr th:only-of-type {\n",
       "        vertical-align: middle;\n",
       "    }\n",
       "\n",
       "    .dataframe tbody tr th {\n",
       "        vertical-align: top;\n",
       "    }\n",
       "\n",
       "    .dataframe thead th {\n",
       "        text-align: right;\n",
       "    }\n",
       "</style>\n",
       "<table border=\"1\" class=\"dataframe\">\n",
       "  <thead>\n",
       "    <tr style=\"text-align: right;\">\n",
       "      <th></th>\n",
       "      <th>ID</th>\n",
       "      <th>Store_id</th>\n",
       "      <th>Store_Type</th>\n",
       "      <th>Location_Type</th>\n",
       "      <th>Region_Code</th>\n",
       "      <th>Date</th>\n",
       "      <th>Holiday</th>\n",
       "      <th>Discount</th>\n",
       "      <th>Year</th>\n",
       "      <th>Month</th>\n",
       "    </tr>\n",
       "  </thead>\n",
       "  <tbody>\n",
       "    <tr>\n",
       "      <th>0</th>\n",
       "      <td>T1188341</td>\n",
       "      <td>171</td>\n",
       "      <td>S4</td>\n",
       "      <td>L2</td>\n",
       "      <td>R3</td>\n",
       "      <td>2019-06-01</td>\n",
       "      <td>0</td>\n",
       "      <td>No</td>\n",
       "      <td>2019</td>\n",
       "      <td>06</td>\n",
       "    </tr>\n",
       "    <tr>\n",
       "      <th>1</th>\n",
       "      <td>T1188342</td>\n",
       "      <td>172</td>\n",
       "      <td>S1</td>\n",
       "      <td>L1</td>\n",
       "      <td>R1</td>\n",
       "      <td>2019-06-01</td>\n",
       "      <td>0</td>\n",
       "      <td>No</td>\n",
       "      <td>2019</td>\n",
       "      <td>06</td>\n",
       "    </tr>\n",
       "  </tbody>\n",
       "</table>\n",
       "</div>"
      ],
      "text/plain": [
       "         ID  Store_id Store_Type Location_Type Region_Code        Date  \\\n",
       "0  T1188341       171         S4            L2          R3  2019-06-01   \n",
       "1  T1188342       172         S1            L1          R1  2019-06-01   \n",
       "\n",
       "   Holiday Discount  Year Month  \n",
       "0        0       No  2019    06  \n",
       "1        0       No  2019    06  "
      ]
     },
     "metadata": {},
     "execution_count": 61
    }
   ],
   "metadata": {}
  },
  {
   "cell_type": "code",
   "execution_count": 60,
   "source": [
    "df_train.columns"
   ],
   "outputs": [
    {
     "output_type": "execute_result",
     "data": {
      "text/plain": [
       "Index(['ID', 'Store_id', 'Store_Type', 'Location_Type', 'Region_Code', 'Date',\n",
       "       'Holiday', 'Discount', '#Order', 'Sales', 'Year', 'Month'],\n",
       "      dtype='object')"
      ]
     },
     "metadata": {},
     "execution_count": 60
    }
   ],
   "metadata": {}
  },
  {
   "cell_type": "markdown",
   "source": [
    "## Let's describe the dataset"
   ],
   "metadata": {}
  },
  {
   "cell_type": "code",
   "execution_count": 5,
   "source": [
    "df_train.describe()"
   ],
   "outputs": [
    {
     "output_type": "execute_result",
     "data": {
      "text/html": [
       "<div>\n",
       "<style scoped>\n",
       "    .dataframe tbody tr th:only-of-type {\n",
       "        vertical-align: middle;\n",
       "    }\n",
       "\n",
       "    .dataframe tbody tr th {\n",
       "        vertical-align: top;\n",
       "    }\n",
       "\n",
       "    .dataframe thead th {\n",
       "        text-align: right;\n",
       "    }\n",
       "</style>\n",
       "<table border=\"1\" class=\"dataframe\">\n",
       "  <thead>\n",
       "    <tr style=\"text-align: right;\">\n",
       "      <th></th>\n",
       "      <th>Store_id</th>\n",
       "      <th>Holiday</th>\n",
       "      <th>#Order</th>\n",
       "      <th>Sales</th>\n",
       "    </tr>\n",
       "  </thead>\n",
       "  <tbody>\n",
       "    <tr>\n",
       "      <th>count</th>\n",
       "      <td>188340.000000</td>\n",
       "      <td>188340.000000</td>\n",
       "      <td>188340.000000</td>\n",
       "      <td>188340.000000</td>\n",
       "    </tr>\n",
       "    <tr>\n",
       "      <th>mean</th>\n",
       "      <td>183.000000</td>\n",
       "      <td>0.131783</td>\n",
       "      <td>68.205692</td>\n",
       "      <td>42784.327982</td>\n",
       "    </tr>\n",
       "    <tr>\n",
       "      <th>std</th>\n",
       "      <td>105.366308</td>\n",
       "      <td>0.338256</td>\n",
       "      <td>30.467415</td>\n",
       "      <td>18456.708302</td>\n",
       "    </tr>\n",
       "    <tr>\n",
       "      <th>min</th>\n",
       "      <td>1.000000</td>\n",
       "      <td>0.000000</td>\n",
       "      <td>0.000000</td>\n",
       "      <td>0.000000</td>\n",
       "    </tr>\n",
       "    <tr>\n",
       "      <th>25%</th>\n",
       "      <td>92.000000</td>\n",
       "      <td>0.000000</td>\n",
       "      <td>48.000000</td>\n",
       "      <td>30426.000000</td>\n",
       "    </tr>\n",
       "    <tr>\n",
       "      <th>50%</th>\n",
       "      <td>183.000000</td>\n",
       "      <td>0.000000</td>\n",
       "      <td>63.000000</td>\n",
       "      <td>39678.000000</td>\n",
       "    </tr>\n",
       "    <tr>\n",
       "      <th>75%</th>\n",
       "      <td>274.000000</td>\n",
       "      <td>0.000000</td>\n",
       "      <td>82.000000</td>\n",
       "      <td>51909.000000</td>\n",
       "    </tr>\n",
       "    <tr>\n",
       "      <th>max</th>\n",
       "      <td>365.000000</td>\n",
       "      <td>1.000000</td>\n",
       "      <td>371.000000</td>\n",
       "      <td>247215.000000</td>\n",
       "    </tr>\n",
       "  </tbody>\n",
       "</table>\n",
       "</div>"
      ],
      "text/plain": [
       "            Store_id        Holiday         #Order          Sales\n",
       "count  188340.000000  188340.000000  188340.000000  188340.000000\n",
       "mean      183.000000       0.131783      68.205692   42784.327982\n",
       "std       105.366308       0.338256      30.467415   18456.708302\n",
       "min         1.000000       0.000000       0.000000       0.000000\n",
       "25%        92.000000       0.000000      48.000000   30426.000000\n",
       "50%       183.000000       0.000000      63.000000   39678.000000\n",
       "75%       274.000000       0.000000      82.000000   51909.000000\n",
       "max       365.000000       1.000000     371.000000  247215.000000"
      ]
     },
     "metadata": {},
     "execution_count": 5
    }
   ],
   "metadata": {}
  },
  {
   "cell_type": "markdown",
   "source": [
    "We can see that the max value in sales is way higher, this may be an indication of the presence of outliers."
   ],
   "metadata": {}
  },
  {
   "cell_type": "markdown",
   "source": [
    "Let's use boxplot to check if there are any outliers in the sales"
   ],
   "metadata": {}
  },
  {
   "cell_type": "code",
   "execution_count": 4,
   "source": [
    "plt.figure(figsize=(20,15))\r\n",
    "sns.set_style('whitegrid')\r\n",
    "sns.boxplot(x=df_train.Sales, palette='Blues_d');\r\n",
    "plt.show()"
   ],
   "outputs": [
    {
     "output_type": "display_data",
     "data": {
      "image/png": "[encoded data removed]",
      "text/plain": [
       "<Figure size 1440x1080 with 1 Axes>"
      ]
     },
     "metadata": {}
    }
   ],
   "metadata": {}
  },
  {
   "cell_type": "markdown",
   "source": [
    "Yes, as we can see that there are outliers in the sales features. Let's remove them."
   ],
   "metadata": {}
  },
  {
   "cell_type": "code",
   "execution_count": 6,
   "source": [
    "# using quantile method to ckeck the interval of data\r\n",
    "df_train['Sales'].quantile(0.999)"
   ],
   "outputs": [
    {
     "output_type": "execute_result",
     "data": {
      "text/plain": [
       "140324.33700000256"
      ]
     },
     "metadata": {},
     "execution_count": 6
    }
   ],
   "metadata": {}
  },
  {
   "cell_type": "code",
   "execution_count": 7,
   "source": [
    "df_train = df_train[df_train['Sales'] < 142000]"
   ],
   "outputs": [],
   "metadata": {}
  },
  {
   "cell_type": "code",
   "execution_count": 8,
   "source": [
    "df_train.shape"
   ],
   "outputs": [
    {
     "output_type": "execute_result",
     "data": {
      "text/plain": [
       "(188172, 10)"
      ]
     },
     "metadata": {},
     "execution_count": 8
    }
   ],
   "metadata": {}
  },
  {
   "cell_type": "markdown",
   "source": [
    "## Now let's check if there are any null/nan values in the dataset."
   ],
   "metadata": {}
  },
  {
   "cell_type": "code",
   "execution_count": 69,
   "source": [
    "df_test.isnull().sum()"
   ],
   "outputs": [
    {
     "output_type": "execute_result",
     "data": {
      "text/plain": [
       "ID               0\n",
       "Store_id         0\n",
       "Store_Type       0\n",
       "Location_Type    0\n",
       "Region_Code      0\n",
       "Date             0\n",
       "Holiday          0\n",
       "Discount         0\n",
       "dtype: int64"
      ]
     },
     "metadata": {},
     "execution_count": 69
    }
   ],
   "metadata": {}
  },
  {
   "cell_type": "markdown",
   "source": [
    "There are no null values on training dataset."
   ],
   "metadata": {}
  },
  {
   "cell_type": "markdown",
   "source": [
    "# Exploratory Data Analysis"
   ],
   "metadata": {}
  },
  {
   "cell_type": "code",
   "execution_count": 22,
   "source": [
    "# Let's explore the distribution of sales over time.\r\n",
    "df = df_train.copy()\r\n",
    "df[\"Date\"] = pd.to_datetime(df[\"Date\"])\r\n",
    "df = df.set_index('Date')\r\n",
    "\r\n",
    "\r\n",
    "df['month'] = df.index.month\r\n",
    "df['year'] = df.index.year\r\n",
    "df['day'] = df.index.day"
   ],
   "outputs": [],
   "metadata": {}
  },
  {
   "cell_type": "code",
   "execution_count": 23,
   "source": [
    "# Let's view the sales distribution using lineplot\r\n",
    "plt.figure(figsize=(15,15))\r\n",
    "sns.lineplot(x=df.index, y='Sales', data=df);\r\n",
    "plt.show()"
   ],
   "outputs": [
    {
     "output_type": "display_data",
     "data": {
      "image/png": "[encoded data removed]",
      "text/plain": [
       "<Figure size 1080x1080 with 1 Axes>"
      ]
     },
     "metadata": {
      "needs_background": "light"
     }
    }
   ],
   "metadata": {}
  },
  {
   "cell_type": "code",
   "execution_count": 24,
   "source": [
    "# Using pointplot\r\n",
    "plt.figure(figsize=(15,15))\r\n",
    "sns.pointplot(x='day', y='Sales', data=df);\r\n",
    "plt.show()"
   ],
   "outputs": [
    {
     "output_type": "display_data",
     "data": {
      "image/png": "[encoded data removed]",
      "text/plain": [
       "<Figure size 1080x1080 with 1 Axes>"
      ]
     },
     "metadata": {
      "needs_background": "light"
     }
    }
   ],
   "metadata": {}
  },
  {
   "cell_type": "markdown",
   "source": [
    "We can see that the sales are higher during the initial days of a month. "
   ],
   "metadata": {}
  },
  {
   "cell_type": "code",
   "execution_count": 25,
   "source": [
    "# Let's check the variation of sales as per holidays and working days.\r\n",
    "plt.figure(figsize=(15,15))\r\n",
    "sns.pointplot(x='day', y='Sales', data=df, hue='Holiday');\r\n",
    "plt.show()"
   ],
   "outputs": [
    {
     "output_type": "display_data",
     "data": {
      "image/png": "[encoded data removed]",
      "text/plain": [
       "<Figure size 1080x1080 with 1 Axes>"
      ]
     },
     "metadata": {
      "needs_background": "light"
     }
    }
   ],
   "metadata": {}
  },
  {
   "cell_type": "markdown",
   "source": [
    "## Let's explore the sales as per other given features in dataset"
   ],
   "metadata": {}
  },
  {
   "cell_type": "code",
   "execution_count": 11,
   "source": [
    "# Using groupby to check the sales as per store_type\r\n",
    "store_type_sales = df_train.groupby(['Store_Type']).sum()\r\n",
    "store_type_sales"
   ],
   "outputs": [
    {
     "output_type": "execute_result",
     "data": {
      "text/html": [
       "<div>\n",
       "<style scoped>\n",
       "    .dataframe tbody tr th:only-of-type {\n",
       "        vertical-align: middle;\n",
       "    }\n",
       "\n",
       "    .dataframe tbody tr th {\n",
       "        vertical-align: top;\n",
       "    }\n",
       "\n",
       "    .dataframe thead th {\n",
       "        text-align: right;\n",
       "    }\n",
       "</style>\n",
       "<table border=\"1\" class=\"dataframe\">\n",
       "  <thead>\n",
       "    <tr style=\"text-align: right;\">\n",
       "      <th></th>\n",
       "      <th>Store_id</th>\n",
       "      <th>Holiday</th>\n",
       "      <th>#Order</th>\n",
       "      <th>Sales</th>\n",
       "    </tr>\n",
       "    <tr>\n",
       "      <th>Store_Type</th>\n",
       "      <th></th>\n",
       "      <th></th>\n",
       "      <th></th>\n",
       "      <th></th>\n",
       "    </tr>\n",
       "  </thead>\n",
       "  <tbody>\n",
       "    <tr>\n",
       "      <th>S1</th>\n",
       "      <td>15240060</td>\n",
       "      <td>11696</td>\n",
       "      <td>5149577</td>\n",
       "      <td>3.343866e+09</td>\n",
       "    </tr>\n",
       "    <tr>\n",
       "      <th>S2</th>\n",
       "      <td>5910780</td>\n",
       "      <td>3808</td>\n",
       "      <td>1169502</td>\n",
       "      <td>7.955308e+08</td>\n",
       "    </tr>\n",
       "    <tr>\n",
       "      <th>S3</th>\n",
       "      <td>4155864</td>\n",
       "      <td>3264</td>\n",
       "      <td>1824495</td>\n",
       "      <td>1.165658e+09</td>\n",
       "    </tr>\n",
       "    <tr>\n",
       "      <th>S4</th>\n",
       "      <td>9159516</td>\n",
       "      <td>6052</td>\n",
       "      <td>4702286</td>\n",
       "      <td>2.752946e+09</td>\n",
       "    </tr>\n",
       "  </tbody>\n",
       "</table>\n",
       "</div>"
      ],
      "text/plain": [
       "            Store_id  Holiday   #Order         Sales\n",
       "Store_Type                                          \n",
       "S1          15240060    11696  5149577  3.343866e+09\n",
       "S2           5910780     3808  1169502  7.955308e+08\n",
       "S3           4155864     3264  1824495  1.165658e+09\n",
       "S4           9159516     6052  4702286  2.752946e+09"
      ]
     },
     "metadata": {},
     "execution_count": 11
    }
   ],
   "metadata": {}
  },
  {
   "cell_type": "code",
   "execution_count": 18,
   "source": [
    "# Visualize the number of sales vs the store type\r\n",
    "plt.figure(figsize=(15,15))\r\n",
    "sns.set_style('whitegrid')\r\n",
    "sns.barplot(x=store_type_sales.index, y=store_type_sales['Sales'], palette='Blues_d');\r\n",
    "plt.title(\"Sales vs Store type\")\r\n",
    "plt.xlabel('Store Type', fontsize = 20)\r\n",
    "plt.ylabel ('Sales', fontsize = 20)\r\n",
    "plt.show()"
   ],
   "outputs": [
    {
     "output_type": "display_data",
     "data": {
      "image/png": "[encoded data removed]",
      "text/plain": [
       "<Figure size 1080x1080 with 1 Axes>"
      ]
     },
     "metadata": {}
    }
   ],
   "metadata": {}
  },
  {
   "cell_type": "markdown",
   "source": [
    "We can see that store type S1 has the highest sales value followed by S4, S3 and S2 respectively."
   ],
   "metadata": {}
  },
  {
   "cell_type": "markdown",
   "source": [
    " ## Let's see the variation of sales as per location type and region type as well."
   ],
   "metadata": {}
  },
  {
   "cell_type": "code",
   "execution_count": 19,
   "source": [
    "# Using group by method\r\n",
    "locaton_type_sales = df_train.groupby(['Location_Type']).sum()\r\n",
    "locaton_type_sales"
   ],
   "outputs": [
    {
     "output_type": "execute_result",
     "data": {
      "text/html": [
       "<div>\n",
       "<style scoped>\n",
       "    .dataframe tbody tr th:only-of-type {\n",
       "        vertical-align: middle;\n",
       "    }\n",
       "\n",
       "    .dataframe tbody tr th {\n",
       "        vertical-align: top;\n",
       "    }\n",
       "\n",
       "    .dataframe thead th {\n",
       "        text-align: right;\n",
       "    }\n",
       "</style>\n",
       "<table border=\"1\" class=\"dataframe\">\n",
       "  <thead>\n",
       "    <tr style=\"text-align: right;\">\n",
       "      <th></th>\n",
       "      <th>Store_id</th>\n",
       "      <th>Holiday</th>\n",
       "      <th>#Order</th>\n",
       "      <th>Sales</th>\n",
       "    </tr>\n",
       "    <tr>\n",
       "      <th>Location_Type</th>\n",
       "      <th></th>\n",
       "      <th></th>\n",
       "      <th></th>\n",
       "      <th></th>\n",
       "    </tr>\n",
       "  </thead>\n",
       "  <tbody>\n",
       "    <tr>\n",
       "      <th>L1</th>\n",
       "      <td>14968644</td>\n",
       "      <td>11220</td>\n",
       "      <td>5556742</td>\n",
       "      <td>3.529359e+09</td>\n",
       "    </tr>\n",
       "    <tr>\n",
       "      <th>L2</th>\n",
       "      <td>8788512</td>\n",
       "      <td>6392</td>\n",
       "      <td>4600675</td>\n",
       "      <td>2.872964e+09</td>\n",
       "    </tr>\n",
       "    <tr>\n",
       "      <th>L3</th>\n",
       "      <td>5810160</td>\n",
       "      <td>3944</td>\n",
       "      <td>1590881</td>\n",
       "      <td>9.897865e+08</td>\n",
       "    </tr>\n",
       "    <tr>\n",
       "      <th>L4</th>\n",
       "      <td>2389080</td>\n",
       "      <td>1428</td>\n",
       "      <td>513475</td>\n",
       "      <td>3.149745e+08</td>\n",
       "    </tr>\n",
       "    <tr>\n",
       "      <th>L5</th>\n",
       "      <td>2509824</td>\n",
       "      <td>1836</td>\n",
       "      <td>584087</td>\n",
       "      <td>3.509163e+08</td>\n",
       "    </tr>\n",
       "  </tbody>\n",
       "</table>\n",
       "</div>"
      ],
      "text/plain": [
       "               Store_id  Holiday   #Order         Sales\n",
       "Location_Type                                          \n",
       "L1             14968644    11220  5556742  3.529359e+09\n",
       "L2              8788512     6392  4600675  2.872964e+09\n",
       "L3              5810160     3944  1590881  9.897865e+08\n",
       "L4              2389080     1428   513475  3.149745e+08\n",
       "L5              2509824     1836   584087  3.509163e+08"
      ]
     },
     "metadata": {},
     "execution_count": 19
    }
   ],
   "metadata": {}
  },
  {
   "cell_type": "code",
   "execution_count": 20,
   "source": [
    "# Plotting the graph for visualizing the sales for different locations.\r\n",
    "plt.figure(figsize=(15,15))\r\n",
    "sns.set_style('whitegrid')\r\n",
    "sns.barplot(x=locaton_type_sales.index, y=locaton_type_sales['Sales'], palette='rocket');\r\n",
    "plt.title(\"Sales vs Location type\")\r\n",
    "plt.xlabel('Location Type', fontsize = 20)\r\n",
    "plt.ylabel ('Sales', fontsize = 20)\r\n",
    "plt.show()"
   ],
   "outputs": [
    {
     "output_type": "display_data",
     "data": {
      "image/png": "[encoded data removed]",
      "text/plain": [
       "<Figure size 1080x1080 with 1 Axes>"
      ]
     },
     "metadata": {}
    }
   ],
   "metadata": {}
  },
  {
   "cell_type": "markdown",
   "source": [
    "We can see that location L1 has the highest sales followed by L2, L3, L5 and L4 respectively."
   ],
   "metadata": {}
  },
  {
   "cell_type": "code",
   "execution_count": 21,
   "source": [
    "region_code_sales = df_train.groupby(['Region_Code']).sum()\r\n",
    "region_code_sales"
   ],
   "outputs": [
    {
     "output_type": "execute_result",
     "data": {
      "text/html": [
       "<div>\n",
       "<style scoped>\n",
       "    .dataframe tbody tr th:only-of-type {\n",
       "        vertical-align: middle;\n",
       "    }\n",
       "\n",
       "    .dataframe tbody tr th {\n",
       "        vertical-align: top;\n",
       "    }\n",
       "\n",
       "    .dataframe thead th {\n",
       "        text-align: right;\n",
       "    }\n",
       "</style>\n",
       "<table border=\"1\" class=\"dataframe\">\n",
       "  <thead>\n",
       "    <tr style=\"text-align: right;\">\n",
       "      <th></th>\n",
       "      <th>Store_id</th>\n",
       "      <th>Holiday</th>\n",
       "      <th>#Order</th>\n",
       "      <th>Sales</th>\n",
       "    </tr>\n",
       "    <tr>\n",
       "      <th>Region_Code</th>\n",
       "      <th></th>\n",
       "      <th></th>\n",
       "      <th></th>\n",
       "      <th></th>\n",
       "    </tr>\n",
       "  </thead>\n",
       "  <tbody>\n",
       "    <tr>\n",
       "      <th>R1</th>\n",
       "      <td>12854592</td>\n",
       "      <td>8432</td>\n",
       "      <td>5094794</td>\n",
       "      <td>2.992243e+09</td>\n",
       "    </tr>\n",
       "    <tr>\n",
       "      <th>R2</th>\n",
       "      <td>9869532</td>\n",
       "      <td>7140</td>\n",
       "      <td>3402429</td>\n",
       "      <td>2.170172e+09</td>\n",
       "    </tr>\n",
       "    <tr>\n",
       "      <th>R3</th>\n",
       "      <td>7376220</td>\n",
       "      <td>5848</td>\n",
       "      <td>2834847</td>\n",
       "      <td>1.870205e+09</td>\n",
       "    </tr>\n",
       "    <tr>\n",
       "      <th>R4</th>\n",
       "      <td>4365876</td>\n",
       "      <td>3400</td>\n",
       "      <td>1513790</td>\n",
       "      <td>1.025381e+09</td>\n",
       "    </tr>\n",
       "  </tbody>\n",
       "</table>\n",
       "</div>"
      ],
      "text/plain": [
       "             Store_id  Holiday   #Order         Sales\n",
       "Region_Code                                          \n",
       "R1           12854592     8432  5094794  2.992243e+09\n",
       "R2            9869532     7140  3402429  2.170172e+09\n",
       "R3            7376220     5848  2834847  1.870205e+09\n",
       "R4            4365876     3400  1513790  1.025381e+09"
      ]
     },
     "metadata": {},
     "execution_count": 21
    }
   ],
   "metadata": {}
  },
  {
   "cell_type": "code",
   "execution_count": 22,
   "source": [
    "# Plotting the graph for visualizing the sales for different locations\r\n",
    "plt.figure(figsize=(15,15))\r\n",
    "sns.set_style('whitegrid')\r\n",
    "sns.barplot(x=region_code_sales.index, y=region_code_sales['Sales'], palette='viridis');\r\n",
    "plt.title(\"Sales vs Region Code\")\r\n",
    "plt.xlabel('Region Code', fontsize = 20)\r\n",
    "plt.ylabel ('Sales', fontsize = 20)\r\n",
    "plt.show()"
   ],
   "outputs": [
    {
     "output_type": "display_data",
     "data": {
      "image/png": "[encoded data removed]",
      "text/plain": [
       "<Figure size 1080x1080 with 1 Axes>"
      ]
     },
     "metadata": {}
    }
   ],
   "metadata": {}
  },
  {
   "cell_type": "markdown",
   "source": [
    "We can see that R1 has the highest sales value followed by R2, R3, R4 respectively."
   ],
   "metadata": {}
  },
  {
   "cell_type": "markdown",
   "source": [
    "We can see that sales are generally constant during the working days, lying between 40k to 50k. It mostly varies during holidays."
   ],
   "metadata": {}
  },
  {
   "cell_type": "markdown",
   "source": [
    "# Data Preprocessing"
   ],
   "metadata": {}
  },
  {
   "cell_type": "markdown",
   "source": [
    "## Let's separate the 'Date' column into year and month column."
   ],
   "metadata": {}
  },
  {
   "cell_type": "code",
   "execution_count": 10,
   "source": [
    "# Let's convert the Date object into string datatype.\r\n",
    "df_train['Date'] = df_train['Date'].astype(str)"
   ],
   "outputs": [],
   "metadata": {}
  },
  {
   "cell_type": "code",
   "execution_count": 12,
   "source": [
    "# Convert the Date feature into numpy array for joining them into an array\r\n",
    "date = np.array(df_train['Date'])\r\n",
    "\r\n",
    "# Use .join method for joining\r\n",
    "date = [\"\".join(item) for item in date.astype(str)]\r\n",
    "date[0:5]"
   ],
   "outputs": [
    {
     "output_type": "execute_result",
     "data": {
      "text/plain": [
       "['2018-01-01', '2018-01-01', '2018-01-01', '2018-01-01', '2018-01-01']"
      ]
     },
     "metadata": {},
     "execution_count": 12
    }
   ],
   "metadata": {}
  },
  {
   "cell_type": "code",
   "execution_count": 6,
   "source": [
    "year = []\r\n",
    "month = []\r\n",
    "\r\n",
    "for i in range(len(date)):\r\n",
    "   year.append(date[i].split(\"-\")[0])\r\n",
    "   month.append(date[i].split(\"-\")[1])\r\n",
    "\r\n",
    "\r\n"
   ],
   "outputs": [],
   "metadata": {}
  },
  {
   "cell_type": "code",
   "execution_count": 13,
   "source": [
    "# Let's declare a function to convert Date column into separate year and month column.\r\n",
    "\r\n",
    "def dateToYr(data ):\r\n",
    "    data['Date'] = data['Date'].astype(str)\r\n",
    "    date = np.array(data['Date'])\r\n",
    "    date = [\"\".join(item) for item in date.astype(str)]\r\n",
    "\r\n",
    "    year = []\r\n",
    "    month = []\r\n",
    "\r\n",
    "    for i in range(len(date)):\r\n",
    "        year.append(date[i].split(\"-\")[0])\r\n",
    "        month.append(date[i].split(\"-\")[1])\r\n",
    "\r\n",
    "    data['Year'] = year\r\n",
    "    data['Month'] = month\r\n",
    "\r\n",
    "    return data\r\n"
   ],
   "outputs": [],
   "metadata": {}
  },
  {
   "cell_type": "code",
   "execution_count": 14,
   "source": [
    "df_train1 = dateToYr(df_train)\r\n",
    "df_test1 = dateToYr(df_test)"
   ],
   "outputs": [],
   "metadata": {}
  },
  {
   "cell_type": "code",
   "execution_count": 15,
   "source": [
    "# We drop the unrelated features from the datasets\r\n",
    "df_train1 = df_train1.drop(columns=['Date', 'ID', '#Order'])\r\n",
    "df_test1 = df_test1.drop(columns=['Date', 'ID'])"
   ],
   "outputs": [],
   "metadata": {}
  },
  {
   "cell_type": "code",
   "execution_count": 16,
   "source": [
    "df_train1.head(2)"
   ],
   "outputs": [
    {
     "output_type": "execute_result",
     "data": {
      "text/html": [
       "<div>\n",
       "<style scoped>\n",
       "    .dataframe tbody tr th:only-of-type {\n",
       "        vertical-align: middle;\n",
       "    }\n",
       "\n",
       "    .dataframe tbody tr th {\n",
       "        vertical-align: top;\n",
       "    }\n",
       "\n",
       "    .dataframe thead th {\n",
       "        text-align: right;\n",
       "    }\n",
       "</style>\n",
       "<table border=\"1\" class=\"dataframe\">\n",
       "  <thead>\n",
       "    <tr style=\"text-align: right;\">\n",
       "      <th></th>\n",
       "      <th>Store_id</th>\n",
       "      <th>Store_Type</th>\n",
       "      <th>Location_Type</th>\n",
       "      <th>Region_Code</th>\n",
       "      <th>Holiday</th>\n",
       "      <th>Discount</th>\n",
       "      <th>Sales</th>\n",
       "      <th>Year</th>\n",
       "      <th>Month</th>\n",
       "    </tr>\n",
       "  </thead>\n",
       "  <tbody>\n",
       "    <tr>\n",
       "      <th>0</th>\n",
       "      <td>1</td>\n",
       "      <td>S1</td>\n",
       "      <td>L3</td>\n",
       "      <td>R1</td>\n",
       "      <td>1</td>\n",
       "      <td>Yes</td>\n",
       "      <td>7011.84</td>\n",
       "      <td>2018</td>\n",
       "      <td>01</td>\n",
       "    </tr>\n",
       "    <tr>\n",
       "      <th>1</th>\n",
       "      <td>253</td>\n",
       "      <td>S4</td>\n",
       "      <td>L2</td>\n",
       "      <td>R1</td>\n",
       "      <td>1</td>\n",
       "      <td>Yes</td>\n",
       "      <td>51789.12</td>\n",
       "      <td>2018</td>\n",
       "      <td>01</td>\n",
       "    </tr>\n",
       "  </tbody>\n",
       "</table>\n",
       "</div>"
      ],
      "text/plain": [
       "   Store_id Store_Type Location_Type Region_Code  Holiday Discount     Sales  \\\n",
       "0         1         S1            L3          R1        1      Yes   7011.84   \n",
       "1       253         S4            L2          R1        1      Yes  51789.12   \n",
       "\n",
       "   Year Month  \n",
       "0  2018    01  \n",
       "1  2018    01  "
      ]
     },
     "metadata": {},
     "execution_count": 16
    }
   ],
   "metadata": {}
  },
  {
   "cell_type": "code",
   "execution_count": 17,
   "source": [
    "df_test1.head(2)"
   ],
   "outputs": [
    {
     "output_type": "execute_result",
     "data": {
      "text/html": [
       "<div>\n",
       "<style scoped>\n",
       "    .dataframe tbody tr th:only-of-type {\n",
       "        vertical-align: middle;\n",
       "    }\n",
       "\n",
       "    .dataframe tbody tr th {\n",
       "        vertical-align: top;\n",
       "    }\n",
       "\n",
       "    .dataframe thead th {\n",
       "        text-align: right;\n",
       "    }\n",
       "</style>\n",
       "<table border=\"1\" class=\"dataframe\">\n",
       "  <thead>\n",
       "    <tr style=\"text-align: right;\">\n",
       "      <th></th>\n",
       "      <th>Store_id</th>\n",
       "      <th>Store_Type</th>\n",
       "      <th>Location_Type</th>\n",
       "      <th>Region_Code</th>\n",
       "      <th>Holiday</th>\n",
       "      <th>Discount</th>\n",
       "      <th>Year</th>\n",
       "      <th>Month</th>\n",
       "    </tr>\n",
       "  </thead>\n",
       "  <tbody>\n",
       "    <tr>\n",
       "      <th>0</th>\n",
       "      <td>171</td>\n",
       "      <td>S4</td>\n",
       "      <td>L2</td>\n",
       "      <td>R3</td>\n",
       "      <td>0</td>\n",
       "      <td>No</td>\n",
       "      <td>2019</td>\n",
       "      <td>06</td>\n",
       "    </tr>\n",
       "    <tr>\n",
       "      <th>1</th>\n",
       "      <td>172</td>\n",
       "      <td>S1</td>\n",
       "      <td>L1</td>\n",
       "      <td>R1</td>\n",
       "      <td>0</td>\n",
       "      <td>No</td>\n",
       "      <td>2019</td>\n",
       "      <td>06</td>\n",
       "    </tr>\n",
       "  </tbody>\n",
       "</table>\n",
       "</div>"
      ],
      "text/plain": [
       "   Store_id Store_Type Location_Type Region_Code  Holiday Discount  Year Month\n",
       "0       171         S4            L2          R3        0       No  2019    06\n",
       "1       172         S1            L1          R1        0       No  2019    06"
      ]
     },
     "metadata": {},
     "execution_count": 17
    }
   ],
   "metadata": {}
  },
  {
   "cell_type": "markdown",
   "source": [
    "## Let's handle the categorical features of the datasets"
   ],
   "metadata": {}
  },
  {
   "cell_type": "code",
   "execution_count": 18,
   "source": [
    "# let's declare a function that label encode a feature and return the encoded dataframe.\r\n",
    "def labelEncode(data, feature):\r\n",
    "\r\n",
    "    # We use LabelEncoder from scikit-learn library\r\n",
    "    from sklearn.preprocessing import LabelEncoder\r\n",
    "    \r\n",
    "    le = LabelEncoder()\r\n",
    "    data[feature] = le.fit_transform(data[feature])\r\n",
    "    return data"
   ],
   "outputs": [],
   "metadata": {}
  },
  {
   "cell_type": "code",
   "execution_count": 19,
   "source": [
    "df_train2 = labelEncode(df_train1, 'Discount')\r\n",
    "df_test2 = labelEncode(df_test1, 'Discount')"
   ],
   "outputs": [],
   "metadata": {}
  },
  {
   "cell_type": "code",
   "execution_count": 21,
   "source": [
    "df_train2.head(2)"
   ],
   "outputs": [
    {
     "output_type": "execute_result",
     "data": {
      "text/html": [
       "<div>\n",
       "<style scoped>\n",
       "    .dataframe tbody tr th:only-of-type {\n",
       "        vertical-align: middle;\n",
       "    }\n",
       "\n",
       "    .dataframe tbody tr th {\n",
       "        vertical-align: top;\n",
       "    }\n",
       "\n",
       "    .dataframe thead th {\n",
       "        text-align: right;\n",
       "    }\n",
       "</style>\n",
       "<table border=\"1\" class=\"dataframe\">\n",
       "  <thead>\n",
       "    <tr style=\"text-align: right;\">\n",
       "      <th></th>\n",
       "      <th>Store_id</th>\n",
       "      <th>Store_Type</th>\n",
       "      <th>Location_Type</th>\n",
       "      <th>Region_Code</th>\n",
       "      <th>Holiday</th>\n",
       "      <th>Discount</th>\n",
       "      <th>Sales</th>\n",
       "      <th>Year</th>\n",
       "      <th>Month</th>\n",
       "    </tr>\n",
       "  </thead>\n",
       "  <tbody>\n",
       "    <tr>\n",
       "      <th>0</th>\n",
       "      <td>1</td>\n",
       "      <td>S1</td>\n",
       "      <td>L3</td>\n",
       "      <td>R1</td>\n",
       "      <td>1</td>\n",
       "      <td>1</td>\n",
       "      <td>7011.84</td>\n",
       "      <td>2018</td>\n",
       "      <td>01</td>\n",
       "    </tr>\n",
       "    <tr>\n",
       "      <th>1</th>\n",
       "      <td>253</td>\n",
       "      <td>S4</td>\n",
       "      <td>L2</td>\n",
       "      <td>R1</td>\n",
       "      <td>1</td>\n",
       "      <td>1</td>\n",
       "      <td>51789.12</td>\n",
       "      <td>2018</td>\n",
       "      <td>01</td>\n",
       "    </tr>\n",
       "  </tbody>\n",
       "</table>\n",
       "</div>"
      ],
      "text/plain": [
       "   Store_id Store_Type Location_Type Region_Code  Holiday  Discount     Sales  \\\n",
       "0         1         S1            L3          R1        1         1   7011.84   \n",
       "1       253         S4            L2          R1        1         1  51789.12   \n",
       "\n",
       "   Year Month  \n",
       "0  2018    01  \n",
       "1  2018    01  "
      ]
     },
     "metadata": {},
     "execution_count": 21
    }
   ],
   "metadata": {}
  },
  {
   "cell_type": "code",
   "execution_count": 26,
   "source": [
    "df_train2.info()"
   ],
   "outputs": [
    {
     "output_type": "stream",
     "name": "stdout",
     "text": [
      "<class 'pandas.core.frame.DataFrame'>\n",
      "Int64Index: 188172 entries, 0 to 188339\n",
      "Data columns (total 9 columns):\n",
      " #   Column         Non-Null Count   Dtype  \n",
      "---  ------         --------------   -----  \n",
      " 0   Store_id       188172 non-null  int64  \n",
      " 1   Store_Type     188172 non-null  object \n",
      " 2   Location_Type  188172 non-null  object \n",
      " 3   Region_Code    188172 non-null  object \n",
      " 4   Holiday        188172 non-null  int64  \n",
      " 5   Discount       188172 non-null  int32  \n",
      " 6   Sales          188172 non-null  float64\n",
      " 7   Year           188172 non-null  object \n",
      " 8   Month          188172 non-null  object \n",
      "dtypes: float64(1), int32(1), int64(2), object(5)\n",
      "memory usage: 13.6+ MB\n"
     ]
    }
   ],
   "metadata": {}
  },
  {
   "cell_type": "code",
   "execution_count": 27,
   "source": [
    "# Converting the onject dtypes into int dtypes\r\n",
    "df_train2['Year'] = df_train2['Year'].astype(int)\r\n",
    "df_train2['Month'] = df_train2['Month'].astype(int)\r\n",
    "df_test2['Year'] = df_test2['Year'].astype(int)\r\n",
    "df_test2['Month'] = df_test2['Month'].astype(int)"
   ],
   "outputs": [],
   "metadata": {}
  },
  {
   "cell_type": "code",
   "execution_count": 17,
   "source": [
    "df_train2.info()"
   ],
   "outputs": [
    {
     "output_type": "stream",
     "name": "stdout",
     "text": [
      "<class 'pandas.core.frame.DataFrame'>\n",
      "RangeIndex: 188340 entries, 0 to 188339\n",
      "Data columns (total 9 columns):\n",
      " #   Column         Non-Null Count   Dtype  \n",
      "---  ------         --------------   -----  \n",
      " 0   Store_id       188340 non-null  int64  \n",
      " 1   Store_Type     188340 non-null  object \n",
      " 2   Location_Type  188340 non-null  object \n",
      " 3   Region_Code    188340 non-null  object \n",
      " 4   Holiday        188340 non-null  int64  \n",
      " 5   Discount       188340 non-null  int32  \n",
      " 6   Sales          188340 non-null  float64\n",
      " 7   Year           188340 non-null  int32  \n",
      " 8   Month          188340 non-null  int32  \n",
      "dtypes: float64(1), int32(3), int64(2), object(3)\n",
      "memory usage: 10.8+ MB\n"
     ]
    }
   ],
   "metadata": {}
  },
  {
   "cell_type": "markdown",
   "source": [
    "## Let's One hot encode the categorical features."
   ],
   "metadata": {}
  },
  {
   "cell_type": "code",
   "execution_count": 28,
   "source": [
    "# We declare a function for oneHotEncoding the categorical features.\r\n",
    "def oneHotEncode(data, exclude_features):\r\n",
    "    num_df = data[exclude_features]\r\n",
    "\r\n",
    "    #select the categorical features\r\n",
    "    df_cat = data.select_dtypes(include =[np.object])\r\n",
    "\r\n",
    "    # onehotencode using pandas dummies\r\n",
    "    var1 = pd.get_dummies(df_cat['Store_Type'], prefix= 'store_type')\r\n",
    "    var2 = pd.get_dummies(df_cat['Location_Type'], prefix= 'location_type')\r\n",
    "    var3 = pd.get_dummies(df_cat['Region_Code'], prefix= 'region_code')\r\n",
    "    data_arr =  [var1, var2, var3, num_df]\r\n",
    "\r\n",
    "    #concat the dataframes into a single dataframe\r\n",
    "    df = pd.concat(data_arr, axis=1)\r\n",
    "    return df"
   ],
   "outputs": [],
   "metadata": {}
  },
  {
   "cell_type": "code",
   "execution_count": 29,
   "source": [
    "df_train3 = oneHotEncode(df_train2, ['Holiday', 'Discount', 'Sales', 'Year', 'Month'])\r\n",
    "df_test3 = oneHotEncode(df_test2, ['Holiday', 'Discount', 'Year', 'Month'])"
   ],
   "outputs": [],
   "metadata": {}
  },
  {
   "cell_type": "code",
   "execution_count": 30,
   "source": [
    "# Checking the dataset using head() command\r\n",
    "df_train3.head(2)"
   ],
   "outputs": [
    {
     "output_type": "execute_result",
     "data": {
      "text/html": [
       "<div>\n",
       "<style scoped>\n",
       "    .dataframe tbody tr th:only-of-type {\n",
       "        vertical-align: middle;\n",
       "    }\n",
       "\n",
       "    .dataframe tbody tr th {\n",
       "        vertical-align: top;\n",
       "    }\n",
       "\n",
       "    .dataframe thead th {\n",
       "        text-align: right;\n",
       "    }\n",
       "</style>\n",
       "<table border=\"1\" class=\"dataframe\">\n",
       "  <thead>\n",
       "    <tr style=\"text-align: right;\">\n",
       "      <th></th>\n",
       "      <th>store_type_S1</th>\n",
       "      <th>store_type_S2</th>\n",
       "      <th>store_type_S3</th>\n",
       "      <th>store_type_S4</th>\n",
       "      <th>location_type_L1</th>\n",
       "      <th>location_type_L2</th>\n",
       "      <th>location_type_L3</th>\n",
       "      <th>location_type_L4</th>\n",
       "      <th>location_type_L5</th>\n",
       "      <th>region_code_R1</th>\n",
       "      <th>region_code_R2</th>\n",
       "      <th>region_code_R3</th>\n",
       "      <th>region_code_R4</th>\n",
       "      <th>Holiday</th>\n",
       "      <th>Discount</th>\n",
       "      <th>Sales</th>\n",
       "      <th>Year</th>\n",
       "      <th>Month</th>\n",
       "    </tr>\n",
       "  </thead>\n",
       "  <tbody>\n",
       "    <tr>\n",
       "      <th>0</th>\n",
       "      <td>1</td>\n",
       "      <td>0</td>\n",
       "      <td>0</td>\n",
       "      <td>0</td>\n",
       "      <td>0</td>\n",
       "      <td>0</td>\n",
       "      <td>1</td>\n",
       "      <td>0</td>\n",
       "      <td>0</td>\n",
       "      <td>1</td>\n",
       "      <td>0</td>\n",
       "      <td>0</td>\n",
       "      <td>0</td>\n",
       "      <td>1</td>\n",
       "      <td>1</td>\n",
       "      <td>7011.84</td>\n",
       "      <td>2018</td>\n",
       "      <td>1</td>\n",
       "    </tr>\n",
       "    <tr>\n",
       "      <th>1</th>\n",
       "      <td>0</td>\n",
       "      <td>0</td>\n",
       "      <td>0</td>\n",
       "      <td>1</td>\n",
       "      <td>0</td>\n",
       "      <td>1</td>\n",
       "      <td>0</td>\n",
       "      <td>0</td>\n",
       "      <td>0</td>\n",
       "      <td>1</td>\n",
       "      <td>0</td>\n",
       "      <td>0</td>\n",
       "      <td>0</td>\n",
       "      <td>1</td>\n",
       "      <td>1</td>\n",
       "      <td>51789.12</td>\n",
       "      <td>2018</td>\n",
       "      <td>1</td>\n",
       "    </tr>\n",
       "  </tbody>\n",
       "</table>\n",
       "</div>"
      ],
      "text/plain": [
       "   store_type_S1  store_type_S2  store_type_S3  store_type_S4  \\\n",
       "0              1              0              0              0   \n",
       "1              0              0              0              1   \n",
       "\n",
       "   location_type_L1  location_type_L2  location_type_L3  location_type_L4  \\\n",
       "0                 0                 0                 1                 0   \n",
       "1                 0                 1                 0                 0   \n",
       "\n",
       "   location_type_L5  region_code_R1  region_code_R2  region_code_R3  \\\n",
       "0                 0               1               0               0   \n",
       "1                 0               1               0               0   \n",
       "\n",
       "   region_code_R4  Holiday  Discount     Sales  Year  Month  \n",
       "0               0        1         1   7011.84  2018      1  \n",
       "1               0        1         1  51789.12  2018      1  "
      ]
     },
     "metadata": {},
     "execution_count": 30
    }
   ],
   "metadata": {}
  },
  {
   "cell_type": "code",
   "execution_count": 31,
   "source": [
    "df_test3.head(2)"
   ],
   "outputs": [
    {
     "output_type": "execute_result",
     "data": {
      "text/html": [
       "<div>\n",
       "<style scoped>\n",
       "    .dataframe tbody tr th:only-of-type {\n",
       "        vertical-align: middle;\n",
       "    }\n",
       "\n",
       "    .dataframe tbody tr th {\n",
       "        vertical-align: top;\n",
       "    }\n",
       "\n",
       "    .dataframe thead th {\n",
       "        text-align: right;\n",
       "    }\n",
       "</style>\n",
       "<table border=\"1\" class=\"dataframe\">\n",
       "  <thead>\n",
       "    <tr style=\"text-align: right;\">\n",
       "      <th></th>\n",
       "      <th>store_type_S1</th>\n",
       "      <th>store_type_S2</th>\n",
       "      <th>store_type_S3</th>\n",
       "      <th>store_type_S4</th>\n",
       "      <th>location_type_L1</th>\n",
       "      <th>location_type_L2</th>\n",
       "      <th>location_type_L3</th>\n",
       "      <th>location_type_L4</th>\n",
       "      <th>location_type_L5</th>\n",
       "      <th>region_code_R1</th>\n",
       "      <th>region_code_R2</th>\n",
       "      <th>region_code_R3</th>\n",
       "      <th>region_code_R4</th>\n",
       "      <th>Holiday</th>\n",
       "      <th>Discount</th>\n",
       "      <th>Year</th>\n",
       "      <th>Month</th>\n",
       "    </tr>\n",
       "  </thead>\n",
       "  <tbody>\n",
       "    <tr>\n",
       "      <th>0</th>\n",
       "      <td>0</td>\n",
       "      <td>0</td>\n",
       "      <td>0</td>\n",
       "      <td>1</td>\n",
       "      <td>0</td>\n",
       "      <td>1</td>\n",
       "      <td>0</td>\n",
       "      <td>0</td>\n",
       "      <td>0</td>\n",
       "      <td>0</td>\n",
       "      <td>0</td>\n",
       "      <td>1</td>\n",
       "      <td>0</td>\n",
       "      <td>0</td>\n",
       "      <td>0</td>\n",
       "      <td>2019</td>\n",
       "      <td>6</td>\n",
       "    </tr>\n",
       "    <tr>\n",
       "      <th>1</th>\n",
       "      <td>1</td>\n",
       "      <td>0</td>\n",
       "      <td>0</td>\n",
       "      <td>0</td>\n",
       "      <td>1</td>\n",
       "      <td>0</td>\n",
       "      <td>0</td>\n",
       "      <td>0</td>\n",
       "      <td>0</td>\n",
       "      <td>1</td>\n",
       "      <td>0</td>\n",
       "      <td>0</td>\n",
       "      <td>0</td>\n",
       "      <td>0</td>\n",
       "      <td>0</td>\n",
       "      <td>2019</td>\n",
       "      <td>6</td>\n",
       "    </tr>\n",
       "  </tbody>\n",
       "</table>\n",
       "</div>"
      ],
      "text/plain": [
       "   store_type_S1  store_type_S2  store_type_S3  store_type_S4  \\\n",
       "0              0              0              0              1   \n",
       "1              1              0              0              0   \n",
       "\n",
       "   location_type_L1  location_type_L2  location_type_L3  location_type_L4  \\\n",
       "0                 0                 1                 0                 0   \n",
       "1                 1                 0                 0                 0   \n",
       "\n",
       "   location_type_L5  region_code_R1  region_code_R2  region_code_R3  \\\n",
       "0                 0               0               0               1   \n",
       "1                 0               1               0               0   \n",
       "\n",
       "   region_code_R4  Holiday  Discount  Year  Month  \n",
       "0               0        0         0  2019      6  \n",
       "1               0        0         0  2019      6  "
      ]
     },
     "metadata": {},
     "execution_count": 31
    }
   ],
   "metadata": {}
  },
  {
   "cell_type": "markdown",
   "source": [
    "## Spliting the dataset for training model and evaluation"
   ],
   "metadata": {}
  },
  {
   "cell_type": "code",
   "execution_count": 32,
   "source": [
    "X = df_train3.drop(columns=['Sales'])\r\n",
    "y = df_train3['Sales']"
   ],
   "outputs": [],
   "metadata": {}
  },
  {
   "cell_type": "code",
   "execution_count": 33,
   "source": [
    "y.head(2)"
   ],
   "outputs": [
    {
     "output_type": "execute_result",
     "data": {
      "text/plain": [
       "0     7011.84\n",
       "1    51789.12\n",
       "Name: Sales, dtype: float64"
      ]
     },
     "metadata": {},
     "execution_count": 33
    }
   ],
   "metadata": {}
  },
  {
   "cell_type": "code",
   "execution_count": 34,
   "source": [
    "# We use train_test_split method from scikit-learn library for preparing training and testing dataset.\r\n",
    "from sklearn.model_selection import train_test_split\r\n",
    "X_train, X_test, y_train, y_test = train_test_split(X, y, test_size=0.33, random_state=2)"
   ],
   "outputs": [],
   "metadata": {}
  },
  {
   "cell_type": "markdown",
   "source": [
    "# Model Training and Evaluation"
   ],
   "metadata": {}
  },
  {
   "cell_type": "markdown",
   "source": [
    "## Let's use xgboost "
   ],
   "metadata": {}
  },
  {
   "cell_type": "code",
   "execution_count": 35,
   "source": [
    "from xgboost import XGBRegressor\r\n",
    "# define model\r\n",
    "model = XGBRegressor()\r\n",
    "# fit model\r\n",
    "model.fit(X_train, y_train)\r\n",
    "\r\n",
    "y_pred = model.predict(X_test)\r\n",
    "from sklearn.metrics import mean_squared_error\r\n",
    "print(\"score: \", mean_squared_error(y_test, y_pred))"
   ],
   "outputs": [
    {
     "output_type": "stream",
     "name": "stdout",
     "text": [
      "score:  127249544.43409057\n"
     ]
    }
   ],
   "metadata": {}
  },
  {
   "cell_type": "code",
   "execution_count": 36,
   "source": [
    "model.score(X_test, y_test)"
   ],
   "outputs": [
    {
     "output_type": "execute_result",
     "data": {
      "text/plain": [
       "0.6127394155865662"
      ]
     },
     "metadata": {},
     "execution_count": 36
    }
   ],
   "metadata": {}
  },
  {
   "cell_type": "code",
   "execution_count": 37,
   "source": [
    "# Let's output the predicted values into a csv file for submission\r\n",
    "output = model.predict(df_test3)\r\n",
    "final_output = pd.DataFrame(data={'ID': df_test['ID'], 'Sales': output})\r\n",
    "final_output.to_csv('new_results.csv', index=False)"
   ],
   "outputs": [],
   "metadata": {}
  },
  {
   "cell_type": "markdown",
   "source": [
    "# Now let's try to include the #Order feature into the dataset and check the results."
   ],
   "metadata": {}
  },
  {
   "cell_type": "markdown",
   "source": [
    "## Let's try with adding the date as a feature"
   ],
   "metadata": {}
  },
  {
   "cell_type": "code",
   "execution_count": 39,
   "source": [
    "# Let's concatinate the #Order feature into the already prepared dataset.\r\n",
    "df = pd.concat([df_train3, df_train['#Order']], axis=1)\r\n",
    "df.head(2)"
   ],
   "outputs": [
    {
     "output_type": "execute_result",
     "data": {
      "text/html": [
       "<div>\n",
       "<style scoped>\n",
       "    .dataframe tbody tr th:only-of-type {\n",
       "        vertical-align: middle;\n",
       "    }\n",
       "\n",
       "    .dataframe tbody tr th {\n",
       "        vertical-align: top;\n",
       "    }\n",
       "\n",
       "    .dataframe thead th {\n",
       "        text-align: right;\n",
       "    }\n",
       "</style>\n",
       "<table border=\"1\" class=\"dataframe\">\n",
       "  <thead>\n",
       "    <tr style=\"text-align: right;\">\n",
       "      <th></th>\n",
       "      <th>store_type_S1</th>\n",
       "      <th>store_type_S2</th>\n",
       "      <th>store_type_S3</th>\n",
       "      <th>store_type_S4</th>\n",
       "      <th>location_type_L1</th>\n",
       "      <th>location_type_L2</th>\n",
       "      <th>location_type_L3</th>\n",
       "      <th>location_type_L4</th>\n",
       "      <th>location_type_L5</th>\n",
       "      <th>region_code_R1</th>\n",
       "      <th>region_code_R2</th>\n",
       "      <th>region_code_R3</th>\n",
       "      <th>region_code_R4</th>\n",
       "      <th>Holiday</th>\n",
       "      <th>Discount</th>\n",
       "      <th>Sales</th>\n",
       "      <th>Year</th>\n",
       "      <th>Month</th>\n",
       "      <th>#Order</th>\n",
       "    </tr>\n",
       "  </thead>\n",
       "  <tbody>\n",
       "    <tr>\n",
       "      <th>0</th>\n",
       "      <td>1</td>\n",
       "      <td>0</td>\n",
       "      <td>0</td>\n",
       "      <td>0</td>\n",
       "      <td>0</td>\n",
       "      <td>0</td>\n",
       "      <td>1</td>\n",
       "      <td>0</td>\n",
       "      <td>0</td>\n",
       "      <td>1</td>\n",
       "      <td>0</td>\n",
       "      <td>0</td>\n",
       "      <td>0</td>\n",
       "      <td>1</td>\n",
       "      <td>1</td>\n",
       "      <td>7011.84</td>\n",
       "      <td>2018</td>\n",
       "      <td>1</td>\n",
       "      <td>9</td>\n",
       "    </tr>\n",
       "    <tr>\n",
       "      <th>1</th>\n",
       "      <td>0</td>\n",
       "      <td>0</td>\n",
       "      <td>0</td>\n",
       "      <td>1</td>\n",
       "      <td>0</td>\n",
       "      <td>1</td>\n",
       "      <td>0</td>\n",
       "      <td>0</td>\n",
       "      <td>0</td>\n",
       "      <td>1</td>\n",
       "      <td>0</td>\n",
       "      <td>0</td>\n",
       "      <td>0</td>\n",
       "      <td>1</td>\n",
       "      <td>1</td>\n",
       "      <td>51789.12</td>\n",
       "      <td>2018</td>\n",
       "      <td>1</td>\n",
       "      <td>60</td>\n",
       "    </tr>\n",
       "  </tbody>\n",
       "</table>\n",
       "</div>"
      ],
      "text/plain": [
       "   store_type_S1  store_type_S2  store_type_S3  store_type_S4  \\\n",
       "0              1              0              0              0   \n",
       "1              0              0              0              1   \n",
       "\n",
       "   location_type_L1  location_type_L2  location_type_L3  location_type_L4  \\\n",
       "0                 0                 0                 1                 0   \n",
       "1                 0                 1                 0                 0   \n",
       "\n",
       "   location_type_L5  region_code_R1  region_code_R2  region_code_R3  \\\n",
       "0                 0               1               0               0   \n",
       "1                 0               1               0               0   \n",
       "\n",
       "   region_code_R4  Holiday  Discount     Sales  Year  Month  #Order  \n",
       "0               0        1         1   7011.84  2018      1       9  \n",
       "1               0        1         1  51789.12  2018      1      60  "
      ]
     },
     "metadata": {},
     "execution_count": 39
    }
   ],
   "metadata": {}
  },
  {
   "cell_type": "markdown",
   "source": [
    "## Now we first predict the no of orders in the future and later add that orders to the test dataset and predict the sales"
   ],
   "metadata": {}
  },
  {
   "cell_type": "code",
   "execution_count": 41,
   "source": [
    "x = df.drop(columns=['#Order', 'Sales'])\r\n",
    "y = df['#Order']"
   ],
   "outputs": [],
   "metadata": {}
  },
  {
   "cell_type": "code",
   "execution_count": 45,
   "source": [
    "x.head(1)"
   ],
   "outputs": [
    {
     "output_type": "execute_result",
     "data": {
      "text/html": [
       "<div>\n",
       "<style scoped>\n",
       "    .dataframe tbody tr th:only-of-type {\n",
       "        vertical-align: middle;\n",
       "    }\n",
       "\n",
       "    .dataframe tbody tr th {\n",
       "        vertical-align: top;\n",
       "    }\n",
       "\n",
       "    .dataframe thead th {\n",
       "        text-align: right;\n",
       "    }\n",
       "</style>\n",
       "<table border=\"1\" class=\"dataframe\">\n",
       "  <thead>\n",
       "    <tr style=\"text-align: right;\">\n",
       "      <th></th>\n",
       "      <th>store_type_S1</th>\n",
       "      <th>store_type_S2</th>\n",
       "      <th>store_type_S3</th>\n",
       "      <th>store_type_S4</th>\n",
       "      <th>location_type_L1</th>\n",
       "      <th>location_type_L2</th>\n",
       "      <th>location_type_L3</th>\n",
       "      <th>location_type_L4</th>\n",
       "      <th>location_type_L5</th>\n",
       "      <th>region_code_R1</th>\n",
       "      <th>region_code_R2</th>\n",
       "      <th>region_code_R3</th>\n",
       "      <th>region_code_R4</th>\n",
       "      <th>Holiday</th>\n",
       "      <th>Discount</th>\n",
       "      <th>Year</th>\n",
       "      <th>Month</th>\n",
       "    </tr>\n",
       "  </thead>\n",
       "  <tbody>\n",
       "    <tr>\n",
       "      <th>0</th>\n",
       "      <td>1</td>\n",
       "      <td>0</td>\n",
       "      <td>0</td>\n",
       "      <td>0</td>\n",
       "      <td>0</td>\n",
       "      <td>0</td>\n",
       "      <td>1</td>\n",
       "      <td>0</td>\n",
       "      <td>0</td>\n",
       "      <td>1</td>\n",
       "      <td>0</td>\n",
       "      <td>0</td>\n",
       "      <td>0</td>\n",
       "      <td>1</td>\n",
       "      <td>1</td>\n",
       "      <td>2018</td>\n",
       "      <td>1</td>\n",
       "    </tr>\n",
       "  </tbody>\n",
       "</table>\n",
       "</div>"
      ],
      "text/plain": [
       "   store_type_S1  store_type_S2  store_type_S3  store_type_S4  \\\n",
       "0              1              0              0              0   \n",
       "\n",
       "   location_type_L1  location_type_L2  location_type_L3  location_type_L4  \\\n",
       "0                 0                 0                 1                 0   \n",
       "\n",
       "   location_type_L5  region_code_R1  region_code_R2  region_code_R3  \\\n",
       "0                 0               1               0               0   \n",
       "\n",
       "   region_code_R4  Holiday  Discount  Year  Month  \n",
       "0               0        1         1  2018      1  "
      ]
     },
     "metadata": {},
     "execution_count": 45
    }
   ],
   "metadata": {}
  },
  {
   "cell_type": "code",
   "execution_count": 44,
   "source": [
    "from sklearn.model_selection import train_test_split\r\n",
    "x_train, x_test, y_train, y_test = train_test_split(x, y, test_size=0.33, random_state=2)"
   ],
   "outputs": [],
   "metadata": {}
  },
  {
   "cell_type": "code",
   "execution_count": 46,
   "source": [
    "xgb = XGBRegressor()\r\n",
    "# fit model\r\n",
    "xgb.fit(x_train, y_train)\r\n",
    "\r\n",
    "y_pred = xgb.predict(x_test)\r\n",
    "from sklearn.metrics import mean_squared_error\r\n",
    "print(\"score: \", mean_squared_error(y_test, y_pred))"
   ],
   "outputs": [
    {
     "output_type": "stream",
     "name": "stdout",
     "text": [
      "score:  324.38816423456785\n"
     ]
    }
   ],
   "metadata": {}
  },
  {
   "cell_type": "code",
   "execution_count": 48,
   "source": [
    "orders = xgb.predict(df_test3)\r\n",
    "orders"
   ],
   "outputs": [
    {
     "output_type": "execute_result",
     "data": {
      "text/plain": [
       "array([ 89.63391 ,  55.782482, 122.22878 , ...,  77.21519 ,  57.36425 ,\n",
       "        39.84829 ], dtype=float32)"
      ]
     },
     "metadata": {},
     "execution_count": 48
    }
   ],
   "metadata": {}
  },
  {
   "cell_type": "markdown",
   "source": [
    "## Now we add these data into the test dataset"
   ],
   "metadata": {}
  },
  {
   "cell_type": "code",
   "execution_count": 51,
   "source": [
    "df_test4 = pd.concat([df_test3, pd.DataFrame({'#Order': orders})], axis=1)\r\n",
    "df_test4.head(1)"
   ],
   "outputs": [
    {
     "output_type": "execute_result",
     "data": {
      "text/html": [
       "<div>\n",
       "<style scoped>\n",
       "    .dataframe tbody tr th:only-of-type {\n",
       "        vertical-align: middle;\n",
       "    }\n",
       "\n",
       "    .dataframe tbody tr th {\n",
       "        vertical-align: top;\n",
       "    }\n",
       "\n",
       "    .dataframe thead th {\n",
       "        text-align: right;\n",
       "    }\n",
       "</style>\n",
       "<table border=\"1\" class=\"dataframe\">\n",
       "  <thead>\n",
       "    <tr style=\"text-align: right;\">\n",
       "      <th></th>\n",
       "      <th>store_type_S1</th>\n",
       "      <th>store_type_S2</th>\n",
       "      <th>store_type_S3</th>\n",
       "      <th>store_type_S4</th>\n",
       "      <th>location_type_L1</th>\n",
       "      <th>location_type_L2</th>\n",
       "      <th>location_type_L3</th>\n",
       "      <th>location_type_L4</th>\n",
       "      <th>location_type_L5</th>\n",
       "      <th>region_code_R1</th>\n",
       "      <th>region_code_R2</th>\n",
       "      <th>region_code_R3</th>\n",
       "      <th>region_code_R4</th>\n",
       "      <th>Holiday</th>\n",
       "      <th>Discount</th>\n",
       "      <th>Year</th>\n",
       "      <th>Month</th>\n",
       "      <th>#Order</th>\n",
       "    </tr>\n",
       "  </thead>\n",
       "  <tbody>\n",
       "    <tr>\n",
       "      <th>0</th>\n",
       "      <td>0</td>\n",
       "      <td>0</td>\n",
       "      <td>0</td>\n",
       "      <td>1</td>\n",
       "      <td>0</td>\n",
       "      <td>1</td>\n",
       "      <td>0</td>\n",
       "      <td>0</td>\n",
       "      <td>0</td>\n",
       "      <td>0</td>\n",
       "      <td>0</td>\n",
       "      <td>1</td>\n",
       "      <td>0</td>\n",
       "      <td>0</td>\n",
       "      <td>0</td>\n",
       "      <td>2019</td>\n",
       "      <td>6</td>\n",
       "      <td>89.633911</td>\n",
       "    </tr>\n",
       "  </tbody>\n",
       "</table>\n",
       "</div>"
      ],
      "text/plain": [
       "   store_type_S1  store_type_S2  store_type_S3  store_type_S4  \\\n",
       "0              0              0              0              1   \n",
       "\n",
       "   location_type_L1  location_type_L2  location_type_L3  location_type_L4  \\\n",
       "0                 0                 1                 0                 0   \n",
       "\n",
       "   location_type_L5  region_code_R1  region_code_R2  region_code_R3  \\\n",
       "0                 0               0               0               1   \n",
       "\n",
       "   region_code_R4  Holiday  Discount  Year  Month     #Order  \n",
       "0               0        0         0  2019      6  89.633911  "
      ]
     },
     "metadata": {},
     "execution_count": 51
    }
   ],
   "metadata": {}
  },
  {
   "cell_type": "markdown",
   "source": [
    "# Data Preprocessing"
   ],
   "metadata": {}
  },
  {
   "cell_type": "code",
   "execution_count": 52,
   "source": [
    "# Let's remove Sales from input features\r\n",
    "X = df.drop(columns=['Sales'])\r\n",
    "y = df['Sales']"
   ],
   "outputs": [],
   "metadata": {}
  },
  {
   "cell_type": "code",
   "execution_count": 53,
   "source": [
    "X.head(1)"
   ],
   "outputs": [
    {
     "output_type": "execute_result",
     "data": {
      "text/html": [
       "<div>\n",
       "<style scoped>\n",
       "    .dataframe tbody tr th:only-of-type {\n",
       "        vertical-align: middle;\n",
       "    }\n",
       "\n",
       "    .dataframe tbody tr th {\n",
       "        vertical-align: top;\n",
       "    }\n",
       "\n",
       "    .dataframe thead th {\n",
       "        text-align: right;\n",
       "    }\n",
       "</style>\n",
       "<table border=\"1\" class=\"dataframe\">\n",
       "  <thead>\n",
       "    <tr style=\"text-align: right;\">\n",
       "      <th></th>\n",
       "      <th>store_type_S1</th>\n",
       "      <th>store_type_S2</th>\n",
       "      <th>store_type_S3</th>\n",
       "      <th>store_type_S4</th>\n",
       "      <th>location_type_L1</th>\n",
       "      <th>location_type_L2</th>\n",
       "      <th>location_type_L3</th>\n",
       "      <th>location_type_L4</th>\n",
       "      <th>location_type_L5</th>\n",
       "      <th>region_code_R1</th>\n",
       "      <th>region_code_R2</th>\n",
       "      <th>region_code_R3</th>\n",
       "      <th>region_code_R4</th>\n",
       "      <th>Holiday</th>\n",
       "      <th>Discount</th>\n",
       "      <th>Year</th>\n",
       "      <th>Month</th>\n",
       "      <th>#Order</th>\n",
       "    </tr>\n",
       "  </thead>\n",
       "  <tbody>\n",
       "    <tr>\n",
       "      <th>0</th>\n",
       "      <td>1</td>\n",
       "      <td>0</td>\n",
       "      <td>0</td>\n",
       "      <td>0</td>\n",
       "      <td>0</td>\n",
       "      <td>0</td>\n",
       "      <td>1</td>\n",
       "      <td>0</td>\n",
       "      <td>0</td>\n",
       "      <td>1</td>\n",
       "      <td>0</td>\n",
       "      <td>0</td>\n",
       "      <td>0</td>\n",
       "      <td>1</td>\n",
       "      <td>1</td>\n",
       "      <td>2018</td>\n",
       "      <td>1</td>\n",
       "      <td>9</td>\n",
       "    </tr>\n",
       "  </tbody>\n",
       "</table>\n",
       "</div>"
      ],
      "text/plain": [
       "   store_type_S1  store_type_S2  store_type_S3  store_type_S4  \\\n",
       "0              1              0              0              0   \n",
       "\n",
       "   location_type_L1  location_type_L2  location_type_L3  location_type_L4  \\\n",
       "0                 0                 0                 1                 0   \n",
       "\n",
       "   location_type_L5  region_code_R1  region_code_R2  region_code_R3  \\\n",
       "0                 0               1               0               0   \n",
       "\n",
       "   region_code_R4  Holiday  Discount  Year  Month  #Order  \n",
       "0               0        1         1  2018      1       9  "
      ]
     },
     "metadata": {},
     "execution_count": 53
    }
   ],
   "metadata": {}
  },
  {
   "cell_type": "code",
   "execution_count": 54,
   "source": [
    "# Spliting dataset for training and testing sets\r\n",
    "from sklearn.model_selection import train_test_split\r\n",
    "X_train, X_test, y_train, y_test = train_test_split(X, y, test_size=0.33, random_state=2)"
   ],
   "outputs": [],
   "metadata": {}
  },
  {
   "cell_type": "code",
   "execution_count": 55,
   "source": [
    "\r\n",
    "# define model\r\n",
    "model = XGBRegressor()\r\n",
    "# fit model\r\n",
    "model.fit(X_train, y_train)\r\n",
    "\r\n",
    "y_pred = model.predict(X_test)\r\n",
    "from sklearn.metrics import mean_squared_error\r\n",
    "print(\"score: \", mean_squared_error(y_test, y_pred))"
   ],
   "outputs": [
    {
     "output_type": "stream",
     "name": "stdout",
     "text": [
      "score:  14337205.958033673\n"
     ]
    }
   ],
   "metadata": {}
  },
  {
   "cell_type": "code",
   "execution_count": 56,
   "source": [
    "model.score(X_test, y_test)"
   ],
   "outputs": [
    {
     "output_type": "execute_result",
     "data": {
      "text/plain": [
       "0.956367350603446"
      ]
     },
     "metadata": {},
     "execution_count": 56
    }
   ],
   "metadata": {}
  },
  {
   "cell_type": "markdown",
   "source": [
    "We can see that the score is quite high compared to what we got when we ignored the orders features."
   ],
   "metadata": {}
  },
  {
   "cell_type": "code",
   "execution_count": 2,
   "source": [
    "# Let's save the model\r\n",
    "import pickle\r\n",
    "file_name = \"xgb_model.pkl\"\r\n",
    "\r\n",
    "# # save\r\n",
    "# pickle.dump(model, open(file_name, \"wb\"))"
   ],
   "outputs": [],
   "metadata": {}
  },
  {
   "cell_type": "code",
   "execution_count": 3,
   "source": [
    "model = pickle.load(open(file_name, \"rb\"))"
   ],
   "outputs": [],
   "metadata": {}
  },
  {
   "cell_type": "code",
   "execution_count": 57,
   "source": [
    "#Now let's produce a csv file \r\n",
    "output = model.predict(df_test4)\r\n",
    "final_output = pd.DataFrame(data={'ID': df_test['ID'], 'Sales': output})\r\n",
    "final_output.to_csv('new_results_order_inc.csv', index=False)"
   ],
   "outputs": [],
   "metadata": {}
  }
 ],
 "metadata": {
  "orig_nbformat": 4,
  "language_info": {
   "name": "python",
   "version": "3.8.8",
   "mimetype": "text/x-python",
   "codemirror_mode": {
    "name": "ipython",
    "version": 3
   },
   "pygments_lexer": "ipython3",
   "nbconvert_exporter": "python",
   "file_extension": ".py"
  },
  "kernelspec": {
   "name": "python3",
   "display_name": "Python 3.8.8 64-bit ('virtual_workspace': conda)"
  },
  "interpreter": {
   "hash": "73a86270b8b621c2980a1786016347cc960a3b54d65141cb18af8634b57bf74c"
  }
 },
 "nbformat": 4,
 "nbformat_minor": 2
}